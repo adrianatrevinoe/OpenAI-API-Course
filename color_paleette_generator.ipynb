{
 "cells": [
  {
   "attachments": {},
   "cell_type": "markdown",
   "metadata": {},
   "source": [
    "# Color Palette Generator"
   ]
  },
  {
   "cell_type": "code",
   "execution_count": 40,
   "metadata": {},
   "outputs": [],
   "source": [
    "import openai\n",
    "from dotenv import load_dotenv\n",
    "from dotenv import dotenv_values\n",
    "import os\n",
    "import json\n",
    "from IPython.display import Markdown, display"
   ]
  },
  {
   "cell_type": "code",
   "execution_count": 2,
   "metadata": {},
   "outputs": [],
   "source": [
    "# with import os\n",
    "load_dotenv()\n",
    "api_key = os.getenv(\"API_KEY\")\n",
    "openai.api_key = api_key"
   ]
  },
  {
   "cell_type": "code",
   "execution_count": 3,
   "metadata": {},
   "outputs": [],
   "source": [
    "# other way\n",
    "config = dotenv_values(\".env\")\n",
    "openai.api_key = config['API_KEY']"
   ]
  },
  {
   "cell_type": "code",
   "execution_count": 65,
   "metadata": {},
   "outputs": [],
   "source": [
    "def display_colors(colors):\n",
    "\n",
    "    display(Markdown(\" \".join(         f\"<span style='color: {color}'>{chr(9608) * 4}</span>\"         for color in colors     ))) "
   ]
  },
  {
   "cell_type": "code",
   "execution_count": 74,
   "metadata": {},
   "outputs": [],
   "source": [
    "def get_and_render_colors(msg):\n",
    "    prompt = f\"\"\"\n",
    "    You are a color palette generating assistant that responds to text prompts for color palettes. You should generate color palettes that fit the theme, mood, or instructions in the prompt. The palettes should be between 2 and 8 colors.\n",
    "\n",
    "    Q: Covert the following verbal description of a color palette into a list of colors: The Mediterranean Sea\n",
    "    A: ['#006699','#66CCCC','#F0E68C','#008000','#F08080']\n",
    "\n",
    "    Q: Covert the following verbal description of a color palette into a list of colors: Cotton Candy \n",
    "    A: ['#FFACD8','#FFBBD4','#FFD1E4','#C9FDFF','#DFFEFF']\n",
    "\n",
    "\n",
    "    Desired Format: a JSON array of hexadecimal color codes\n",
    "\n",
    "    Q: Covert the following verbal description of a color palette into a list of colors:{msg} \n",
    "\n",
    "    A:\n",
    "    \"\"\"\n",
    "    response = openai.Completion.create(\n",
    "        prompt = prompt, # prompt changes for each prompt,\n",
    "        model = \"text-davinci-003\",\n",
    "        max_tokens=200,\n",
    "    )  \n",
    "\n",
    "    colors = json.loads(response['choices'][0]['text'])\n",
    "    display_colors(colors)"
   ]
  },
  {
   "cell_type": "code",
   "execution_count": 75,
   "metadata": {},
   "outputs": [
    {
     "data": {
      "text/markdown": [
       "<span style='color: #B7406C'>████</span> <span style='color: #FFE6E9'>████</span> <span style='color: #B16D72'>████</span> <span style='color: #D7BBB3'>████</span> <span style='color: #FFADD4'>████</span>"
      ],
      "text/plain": [
       "<IPython.core.display.Markdown object>"
      ]
     },
     "metadata": {},
     "output_type": "display_data"
    }
   ],
   "source": [
    "colors = get_and_render_colors('Strawberry cream pie')"
   ]
  },
  {
   "cell_type": "code",
   "execution_count": null,
   "metadata": {},
   "outputs": [],
   "source": []
  },
  {
   "cell_type": "code",
   "execution_count": null,
   "metadata": {},
   "outputs": [],
   "source": []
  }
 ],
 "metadata": {
  "kernelspec": {
   "display_name": "Python 3",
   "language": "python",
   "name": "python3"
  },
  "language_info": {
   "codemirror_mode": {
    "name": "ipython",
    "version": 3
   },
   "file_extension": ".py",
   "mimetype": "text/x-python",
   "name": "python",
   "nbconvert_exporter": "python",
   "pygments_lexer": "ipython3",
   "version": "3.9.13"
  },
  "orig_nbformat": 4
 },
 "nbformat": 4,
 "nbformat_minor": 2
}
