{
 "cells": [
  {
   "cell_type": "code",
   "execution_count": 10,
   "metadata": {},
   "outputs": [
    {
     "name": "stdout",
     "output_type": "stream",
     "text": [
      "Defaulting to user installation because normal site-packages is not writeable\n",
      "Collecting python-dotenv\n",
      "  Using cached python_dotenv-1.0.0-py3-none-any.whl (19 kB)\n",
      "Installing collected packages: python-dotenv\n",
      "Successfully installed python-dotenv-1.0.0\n",
      "Note: you may need to restart the kernel to use updated packages.\n"
     ]
    }
   ],
   "source": []
  },
  {
   "cell_type": "code",
   "execution_count": 6,
   "metadata": {},
   "outputs": [],
   "source": [
    "import openai\n",
    "from dotenv import load_dotenv\n",
    "from dotenv import dotenv_values\n",
    "import os"
   ]
  },
  {
   "cell_type": "code",
   "execution_count": 12,
   "metadata": {},
   "outputs": [],
   "source": [
    "# with import os\n",
    "load_dotenv()\n",
    "api_key = os.getenv(\"API_KEY\")\n",
    "openai.api_key = api_key"
   ]
  },
  {
   "cell_type": "code",
   "execution_count": 13,
   "metadata": {},
   "outputs": [],
   "source": [
    "# other way\n",
    "config = dotenv_values(\".env\")\n",
    "openai.api_key = config['API_KEY']"
   ]
  },
  {
   "cell_type": "code",
   "execution_count": 11,
   "metadata": {},
   "outputs": [
    {
     "data": {
      "text/plain": [
       "<OpenAIObject text_completion id=cmpl-7OqqQvYl0b5s8teAFNno0zG1w8APv at 0x7fdc816b1010> JSON: {\n",
       "  \"choices\": [\n",
       "    {\n",
       "      \"finish_reason\": \"stop\",\n",
       "      \"index\": 0,\n",
       "      \"logprobs\": null,\n",
       "      \"text\": \" \\\"meow!\\\"\"\n",
       "    }\n",
       "  ],\n",
       "  \"created\": 1686157362,\n",
       "  \"id\": \"cmpl-7OqqQvYl0b5s8teAFNno0zG1w8APv\",\n",
       "  \"model\": \"text-davinci-003\",\n",
       "  \"object\": \"text_completion\",\n",
       "  \"usage\": {\n",
       "    \"completion_tokens\": 4,\n",
       "    \"prompt_tokens\": 4,\n",
       "    \"total_tokens\": 8\n",
       "  }\n",
       "}"
      ]
     },
     "execution_count": 11,
     "metadata": {},
     "output_type": "execute_result"
    }
   ],
   "source": [
    "openai.Completion.create(\n",
    "    model = \"text-davinci-003\",\n",
    "    prompt = \"The cat says \", # prompt changes for each prompt \n",
    ")  "
   ]
  },
  {
   "attachments": {},
   "cell_type": "markdown",
   "metadata": {},
   "source": [
    "Max token default is 16, we change it with *max_tokens*"
   ]
  },
  {
   "cell_type": "code",
   "execution_count": 14,
   "metadata": {},
   "outputs": [
    {
     "data": {
      "text/plain": [
       "<OpenAIObject text_completion id=cmpl-7OrXUwOFUw9bZ7DNyemE4GkrWPzel at 0x7fdc816b1310> JSON: {\n",
       "  \"choices\": [\n",
       "    {\n",
       "      \"finish_reason\": \"stop\",\n",
       "      \"index\": 0,\n",
       "      \"logprobs\": null,\n",
       "      \"text\": \"\\n\\n1. Tokyo, Japan\\n2. Delhi, India\\n3. Shanghai, China\\n4. Sao Paulo, Brazil\\n5. Mexico City, Mexico\"\n",
       "    }\n",
       "  ],\n",
       "  \"created\": 1686160032,\n",
       "  \"id\": \"cmpl-7OrXUwOFUw9bZ7DNyemE4GkrWPzel\",\n",
       "  \"model\": \"text-davinci-003\",\n",
       "  \"object\": \"text_completion\",\n",
       "  \"usage\": {\n",
       "    \"completion_tokens\": 33,\n",
       "    \"prompt_tokens\": 8,\n",
       "    \"total_tokens\": 41\n",
       "  }\n",
       "}"
      ]
     },
     "execution_count": 14,
     "metadata": {},
     "output_type": "execute_result"
    }
   ],
   "source": [
    "openai.Completion.create(\n",
    "    model = \"text-davinci-003\",\n",
    "    prompt = \"The top 5 most populated cities are:\", # prompt changes for each prompt \n",
    "    max_tokens = 100\n",
    ")  "
   ]
  },
  {
   "cell_type": "code",
   "execution_count": 16,
   "metadata": {},
   "outputs": [
    {
     "name": "stdout",
     "output_type": "stream",
     "text": [
      "\n",
      "\n",
      "1. The Godfather (1972)\n",
      "2. The Shawshank Redemption (1994)\n",
      "3. Schindler's List (1993)\n",
      "4. Pulp Fiction (1994)\n",
      "5. Citizen Kane (1941)\n",
      "6. Casablanca (1942)\n",
      "7. The Lord of the Rings: The Return of the King (2003)\n",
      "8. The Good, the Bad and the Ugly (1966)\n",
      "9. Fight Club (1999)\n",
      "10. Star Wars: Episode V – The Empire Strikes Back (1980)\n",
      "11. Inception (2010)\n",
      "12. Forrest Gump (1994)\n",
      "13. The Dark Knight (2008)\n",
      "14. One Flew Over the Cuckoo’s Nest (1975)\n",
      "15. Seven Samurai (1954)\n"
     ]
    }
   ],
   "source": [
    "\n",
    "response = openai.Completion.create(\n",
    "    model = \"text-davinci-003\",\n",
    "    prompt = \"Generate a list of best movies of all time\", # prompt changes for each prompt \n",
    "    max_tokens = 200,\n",
    "\n",
    ")  \n",
    "print(response['choices'][0][\"text\"])"
   ]
  },
  {
   "cell_type": "code",
   "execution_count": 17,
   "metadata": {},
   "outputs": [
    {
     "name": "stdout",
     "output_type": "stream",
     "text": [
      "\n",
      "\n",
      "1. The Godfather\n",
      "2. The Shawshank Redemption\n",
      "3. Schindler's List\n",
      "4. Raging Bull\n",
      "\n"
     ]
    }
   ],
   "source": [
    "response = openai.Completion.create(\n",
    "    model = \"text-davinci-003\",\n",
    "    prompt = \"Generate a list of best movies of all time\", # prompt changes for each prompt \n",
    "    max_tokens = 200,\n",
    "    stop = \"5.\" # stop as it encounters 5\n",
    "\n",
    ")  \n",
    "print(response['choices'][0][\"text\"])"
   ]
  },
  {
   "cell_type": "code",
   "execution_count": null,
   "metadata": {},
   "outputs": [],
   "source": []
  }
 ],
 "metadata": {
  "kernelspec": {
   "display_name": "Python 3",
   "language": "python",
   "name": "python3"
  },
  "language_info": {
   "codemirror_mode": {
    "name": "ipython",
    "version": 3
   },
   "file_extension": ".py",
   "mimetype": "text/x-python",
   "name": "python",
   "nbconvert_exporter": "python",
   "pygments_lexer": "ipython3",
   "version": "3.11.0rc1"
  },
  "orig_nbformat": 4
 },
 "nbformat": 4,
 "nbformat_minor": 2
}
